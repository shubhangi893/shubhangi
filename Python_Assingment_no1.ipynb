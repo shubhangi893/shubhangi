{
  "nbformat": 4,
  "nbformat_minor": 0,
  "metadata": {
    "kernelspec": {
      "display_name": "Python 3",
      "language": "python",
      "name": "python3"
    },
    "language_info": {
      "codemirror_mode": {
        "name": "ipython",
        "version": 3
      },
      "file_extension": ".py",
      "mimetype": "text/x-python",
      "name": "python",
      "nbconvert_exporter": "python",
      "pygments_lexer": "ipython3",
      "version": "3.6.8"
    },
    "colab": {
      "name": " Python_Assingment no1.ipynb",
      "provenance": [],
      "collapsed_sections": []
    }
  },
  "cells": [
    {
      "cell_type": "markdown",
      "metadata": {
        "id": "l0ZzOlyxB-kf"
      },
      "source": [
        "<h1>Python: without numpy or sklearn </h1>"
      ]
    },
    {
      "cell_type": "markdown",
      "metadata": {
        "id": "C0xO8JV9B-ki"
      },
      "source": [
        "<h3> Q1: Given two matrices please print the product of those two matrices </h3>\n",
        "<pre>\n",
        "\n",
        "Ex 1: A   = [[1 3 4]\n",
        "             [2 5 7]\n",
        "             [5 9 6]]\n",
        "      B   = [[1 0 0]\n",
        "             [0 1 0]\n",
        "             [0 0 1]]\n",
        "      A*B = [[1 3 4]\n",
        "             [2 5 7]\n",
        "             [5 9 6]]\n",
        "\n",
        "     \n",
        "Ex 2: A   = [[1 2]\n",
        "             [3 4]]\n",
        "      B   = [[1 2 3 4 5]\n",
        "             [5 6 7 8 9]]\n",
        "      A*B = [[11 14 17 20 23]\n",
        "             [23 30 36 42 51]]\n",
        "             \n",
        "Ex 3: A   = [[1 2]\n",
        "             [3 4]]\n",
        "      B   = [[1 4]\n",
        "             [5 6]\n",
        "             [7 8]\n",
        "             [9 6]]\n",
        "      A*B =Not possible\n",
        "</pre>"
      ]
    },
    {
      "cell_type": "code",
      "source": [
        "from google.colab import drive\n",
        "drive.mount('/content/drive')"
      ],
      "metadata": {
        "id": "Vhj7IpThgBZw"
      },
      "execution_count": null,
      "outputs": []
    },
    {
      "cell_type": "code",
      "metadata": {
        "id": "rnssAfpgB-kj",
        "colab": {
          "base_uri": "https://localhost:8080/"
        },
        "outputId": "8bb8e577-4afb-4e0c-aed7-4b262cc8fa5d"
      },
      "source": [
        "# write your python code here\n",
        "# you can take the above example as sample input for your program to test\n",
        "# it should work for any general input try not to hard code for only given input examples\n",
        "\n",
        "\n",
        "# you can free to change all these codes/structure\n",
        "# here A and B are list of lists\n",
        "from statistics import mean\n",
        "\n",
        "def get_matrix_size(X):\n",
        "    a = len(X)\n",
        "    b = mean([len(e) for e in X])\n",
        "    if b == len(X[1]):\n",
        "        return (a, b)\n",
        "    else:\n",
        "        return None\n",
        "\n",
        "# here A and B are list of lists\n",
        "def matrix_mul(A, B):\n",
        "    size_A = get_matrix_size(A)\n",
        "    size_B = get_matrix_size(B)\n",
        "    \n",
        "    if size_A is None or size_B is None:\n",
        "        return 'A*B = Not possible'\n",
        "    elif size_A[1] != size_B[0]:\n",
        "        return 'A*B = Not possible'\n",
        "    else:\n",
        "        acc = []\n",
        "        for i in range(0, size_A[0]):\n",
        "            for j in range(0, size_B[1]):\n",
        "                print(i, j, B[i][j])\n",
        "            \n",
        "        return 0 #(multiplication_of_A_and_B)\n",
        "    \n",
        "\n",
        "A = [[1, 2], [3, 4]]\n",
        "B = [[1, 2, 3, 4, 5], [5, 6, 7, 8, 9]]\n",
        "result = matrix_mul(A, B)\n",
        "print(result)"
      ],
      "execution_count": 11,
      "outputs": [
        {
          "output_type": "stream",
          "name": "stdout",
          "text": [
            "0 0 1\n",
            "0 1 2\n",
            "0 2 3\n",
            "0 3 4\n",
            "0 4 5\n",
            "1 0 5\n",
            "1 1 6\n",
            "1 2 7\n",
            "1 3 8\n",
            "1 4 9\n",
            "0\n"
          ]
        }
      ]
    },
    {
      "cell_type": "code",
      "metadata": {
        "id": "B6S2dpBhB-kn",
        "colab": {
          "base_uri": "https://localhost:8080/"
        },
        "outputId": "6b9b3f05-c5f7-43cb-f92b-4c3bfc34f4f0"
      },
      "source": [
        "\n",
        "import random\n",
        "# write your python code here\n",
        "# you can take the above example as sample input for your program to test\n",
        "# it should work for any general input try not to hard code for only given input examples\n",
        "\n",
        "\n",
        "# you can free to change all these codes/structure\n",
        "\n",
        "list1=[0, 5 ,27, 6, 13, 28, 100, 45, 10,79]   \n",
        "\n",
        "def pick_a_number_from_list(A):\n",
        "    weights1=[]\n",
        "    \n",
        "    for i in A:\n",
        "        weights1.append(i/sum(list1))\n",
        "        \n",
        "    selected_random_number = random.choices(A,weights=weights1,k=1)    \n",
        "    \n",
        "    return selected_random_number\n",
        "\n",
        "\n",
        "def sampling_based_on_magnitued():\n",
        "    for i in range(1,100):\n",
        "        number=pick_a_number_from_list(list1)\n",
        "        print(number)\n",
        "    \n",
        "\n",
        "sampling_based_on_magnitued()"
      ],
      "execution_count": null,
      "outputs": [
        {
          "output_type": "stream",
          "name": "stdout",
          "text": [
            "[28]\n",
            "[100]\n",
            "[100]\n",
            "[27]\n",
            "[27]\n",
            "[100]\n",
            "[27]\n",
            "[100]\n",
            "[100]\n",
            "[79]\n",
            "[79]\n",
            "[27]\n",
            "[79]\n",
            "[79]\n",
            "[79]\n",
            "[45]\n",
            "[28]\n",
            "[10]\n",
            "[27]\n",
            "[100]\n",
            "[100]\n",
            "[100]\n",
            "[45]\n",
            "[100]\n",
            "[79]\n",
            "[79]\n",
            "[45]\n",
            "[79]\n",
            "[100]\n",
            "[100]\n",
            "[45]\n",
            "[100]\n",
            "[100]\n",
            "[10]\n",
            "[45]\n",
            "[100]\n",
            "[6]\n",
            "[13]\n",
            "[45]\n",
            "[79]\n",
            "[45]\n",
            "[79]\n",
            "[27]\n",
            "[27]\n",
            "[27]\n",
            "[100]\n",
            "[27]\n",
            "[45]\n",
            "[100]\n",
            "[79]\n",
            "[28]\n",
            "[28]\n",
            "[28]\n",
            "[100]\n",
            "[27]\n",
            "[28]\n",
            "[27]\n",
            "[100]\n",
            "[27]\n",
            "[28]\n",
            "[10]\n",
            "[100]\n",
            "[10]\n",
            "[28]\n",
            "[100]\n",
            "[28]\n",
            "[100]\n",
            "[45]\n",
            "[45]\n",
            "[100]\n",
            "[79]\n",
            "[100]\n",
            "[100]\n",
            "[28]\n",
            "[28]\n",
            "[100]\n",
            "[45]\n",
            "[27]\n",
            "[100]\n",
            "[45]\n",
            "[79]\n",
            "[28]\n",
            "[100]\n",
            "[79]\n",
            "[79]\n",
            "[100]\n",
            "[79]\n",
            "[100]\n",
            "[79]\n",
            "[79]\n",
            "[27]\n",
            "[45]\n",
            "[79]\n",
            "[100]\n",
            "[27]\n",
            "[100]\n",
            "[6]\n",
            "[100]\n",
            "[27]\n"
          ]
        }
      ]
    },
    {
      "cell_type": "markdown",
      "metadata": {
        "id": "at4VwLggB-kn"
      },
      "source": [
        "<h3> Q2: Select a number randomly with probability proportional to its magnitude from the given array of n elements</h3>\n",
        "\n",
        "consider an experiment, selecting an element from the list A randomly with probability proportional to its magnitude.\n",
        "assume we are doing the same experiment for 100 times with replacement, in each experiment you will print a number that is selected randomly from A.\n",
        "\n",
        "<pre>\n",
        "Ex 1: A = [0 5 27 6 13 28 100 45 10 79]\n",
        "let f(x) denote the number of times x getting selected in 100 experiments.\n",
        "f(100) > f(79) > f(45) > f(28) > f(27) > f(13) > f(10) > f(6) > f(5) > f(0)\n",
        "</pre>"
      ]
    },
    {
      "cell_type": "code",
      "source": [
        ""
      ],
      "metadata": {
        "id": "aHSMJQFNb1MC"
      },
      "execution_count": null,
      "outputs": []
    },
    {
      "cell_type": "code",
      "source": [
        ""
      ],
      "metadata": {
        "id": "VzYmNOIjb1hG"
      },
      "execution_count": null,
      "outputs": []
    },
    {
      "cell_type": "markdown",
      "metadata": {
        "id": "D1xQy2WWB-kq"
      },
      "source": [
        "<h3> Q3: Replace the digits in the string with #</h3>\n",
        "\n",
        "consider a string that will have digits in that, we need to remove all the not digits and replace the digits with #\n",
        "<pre>\n",
        "Ex 1: A = 234                Output: ###\n",
        "Ex 2: A = a2b3c4             Output: ###\n",
        "Ex 3: A = abc                Output:   (empty string)\n",
        "Ex 5: A = #2a$#b%c%561#      Output: ####\n",
        "</pre>"
      ]
    },
    {
      "cell_type": "code",
      "metadata": {
        "id": "fxczi2jzB-kr",
        "colab": {
          "base_uri": "https://localhost:8080/"
        },
        "outputId": "c8ffdf73-50bd-481c-d88c-ef71975d8ec6"
      },
      "source": [
        "import re\n",
        "# write your python code here\n",
        "# you can take the above example as sample input for your program to test\n",
        "# it should work for any general input try not to hard code for only given input examples\n",
        "\n",
        "# you can free to change all these codes/structure\n",
        "# String: it will be the input to your program\n",
        "def replace_digits(String):\n",
        "    # write your code\n",
        "    # \n",
        "     # modified string which is after replacing the # with digits\n",
        "    string_list = []\n",
        "    for i in range(len(String)):\n",
        "      string_list.append(String[i])\n",
        "\n",
        "    result = [] \n",
        "    for string in string_list:\n",
        "      if string.isdigit():\n",
        "        string_list.remove(string)\n",
        "        result.append(\"#\")\n",
        "    return result\n",
        "  \n",
        "replace_digits(\"abc\")"
      ],
      "execution_count": null,
      "outputs": [
        {
          "output_type": "execute_result",
          "data": {
            "text/plain": [
              "[]"
            ]
          },
          "metadata": {},
          "execution_count": 3
        }
      ]
    },
    {
      "cell_type": "markdown",
      "metadata": {
        "id": "j7h0Ywg7B-kw"
      },
      "source": [
        "<h3> Q4: Students marks dashboard</h3>\n",
        "\n",
        "consider the marks list of class students given two lists <br>\n",
        "Students = ['student1','student2','student3','student4','student5','student6','student7','student8','student9','student10'] <br>\n",
        "Marks = [45, 78, 12, 14, 48, 43, 45, 98, 35, 80] <br>\n",
        "from the above two lists the Student[0] got Marks[0],  Student[1] got Marks[1] and so on <br><br>\n",
        "your task is to print the name of students\n",
        "<strong>a. Who got top 5 ranks, in the descending order of marks</strong> <br>\n",
        "<strong>b. Who got least 5 ranks, in the increasing order of marks</strong><br>\n",
        "<strong>d. Who got marks between  &gt;25th percentile &lt;75th percentile, in the increasing order of marks</strong>\n",
        "\n",
        "<pre>\n",
        "Ex 1: \n",
        "Students=['student1','student2','student3','student4','student5','student6','student7','student8','student9','student10'] \n",
        "Marks = [45, 78, 12, 14, 48, 43, 47, 98, 35, 80]\n",
        "a. \n",
        "student8  98\n",
        "student10 80\n",
        "student2  78\n",
        "student5  48\n",
        "student7  47\n",
        "b.\n",
        "student3 12\n",
        "student4 14\n",
        "student9 35\n",
        "student6 43\n",
        "student1 45\n",
        "c.\n",
        "student9 35\n",
        "student6 43\n",
        "student1 45\n",
        "student7 47\n",
        "student5 48\n",
        "</pre>"
      ]
    },
    {
      "cell_type": "code",
      "metadata": {
        "id": "cxPJgItsB-kx",
        "colab": {
          "base_uri": "https://localhost:8080/"
        },
        "outputId": "ac544850-609f-45d5-d23b-b8b09ad83a79"
      },
      "source": [
        "# write your python code here\n",
        "# you can take the above example as sample input for your program to test\n",
        "# it should work for any general input try not to hard code for only given input examples\n",
        "\n",
        "# you can free to change all these codes/structure\n",
        "import math\n",
        "\n",
        "Students=['student1','student2','student3','student4','student5','student6','student7','student8','student9','student10'] \n",
        "Marks = [45, 78, 12, 14, 48, 43, 47, 98, 35, 80]\n",
        "\n",
        "# zip will bind together students with corresponding marks as a list of tuples\n",
        "grades = list(zip(Students, Marks))\n",
        "\n",
        "# sort the list of tuples on the grades, so selecting the second element (index 1) of the tuple  \n",
        "grades.sort(key = lambda e: e[1])\n",
        "#print(grades)\n",
        "\n",
        "# you can free to change all these codes/structure\n",
        "def display_dash_board(students, marks):\n",
        "    # write code for computing top top 5 students\n",
        "    # Use slicing on 'grades' list of tuples\n",
        "    top_5 = grades[5:]\n",
        "    top = top_5[::-1]\n",
        "    top_5_students = top\n",
        "    # write code for computing top least 5 students\n",
        "    least = grades[:5]\n",
        "    least_5_students = least\n",
        "    # write code for computing marks between 25th percentile and 75th percentile\n",
        "    # Slice out 25th percentile and 75th percentile based on the length of the 'grades' list\n",
        "    twenty_fifth = math.ceil(len(grades) // 4)\n",
        "    seventy_fifth = math.floor(3 * len(grades) // 4)\n",
        "    middle = grades[twenty_fifth:seventy_fifth]\n",
        "    students_within_25_and_75 = middle# compute this\n",
        "    \n",
        "    return top_5_students, least_5_students, students_within_25_and_75\n",
        "\n",
        "top_5_students, least_5_students, students_within_25_and_75 = display_dash_board(Students, Marks)\n",
        "print(top_5_students)\n",
        "print(least_5_students)\n",
        "print(students_within_25_and_75)"
      ],
      "execution_count": null,
      "outputs": [
        {
          "output_type": "stream",
          "name": "stdout",
          "text": [
            "[('student8', 98), ('student10', 80), ('student2', 78), ('student5', 48), ('student7', 47)]\n",
            "[('student3', 12), ('student4', 14), ('student9', 35), ('student6', 43), ('student1', 45)]\n",
            "[('student9', 35), ('student6', 43), ('student1', 45), ('student7', 47), ('student5', 48)]\n"
          ]
        }
      ]
    },
    {
      "cell_type": "markdown",
      "metadata": {
        "id": "qha0OhQHB-k1"
      },
      "source": [
        "<h3> Q5: Find the closest points</h3>\n",
        "\n",
        "consider you have given n data points in the form of list of tuples like S=[(x1,y1),(x2,y2),(x3,y3),(x4,y4),(x5,y5),..,(xn,yn)] and a point P=(p,q) <br> your task is to find 5 closest points(based on cosine distance) in S from P\n",
        "<br>cosine distance between two points (x,y) and (p,q) is defind as $cos^{-1}(\\frac{(x\\cdot p+y\\cdot q)}{\\sqrt(x^2+y^2)\\cdot\\sqrt(p^2+q^2)})$\n",
        "<pre>\n",
        "Ex:\n",
        "\n",
        "S= [(1,2),(3,4),(-1,1),(6,-7),(0, 6),(-5,-8),(-1,-1)(6,0),(1,-1)]\n",
        "P= (3,-4)\n",
        "<img src='https://i.imgur.com/vIFPOcG.jpg', width=300>\n",
        "Output:\n",
        "(6,-7)\n",
        "(1,-1)\n",
        "(6,0)\n",
        "(-5,-8)\n",
        "(-1,-1)\n",
        "</pre>"
      ]
    },
    {
      "cell_type": "code",
      "metadata": {
        "id": "wA5I1g-2B-k2",
        "colab": {
          "base_uri": "https://localhost:8080/"
        },
        "outputId": "69d1be1e-608a-47ec-98be-3b07ea50b119"
      },
      "source": [
        "import math\n",
        "\n",
        "# write your python code here\n",
        "# you can take the above example as sample input for your program to test\n",
        "# it should work for any general input try not to hard code for only given input examples\n",
        "# you can free to change all these codes/structure\n",
        "\n",
        "\n",
        "# here S is list of tuples and P is a tuple ot len=2\n",
        "cosine_dist = []\n",
        "S = [(1,2), (3,4), (-1,1), (6,-7), (0, 6), (-5,-8), (-1,-1), (6,0), (1,-1)]\n",
        "P = (3,-4)\n",
        "\n",
        "# To find out the inverse of cosine in Python we use math.acos() function of Python Standard math Library. \n",
        "# The inverse of cosine is also called arc cosine.\n",
        "for a, b in S:\n",
        "    numerator = a * P[0] + b * P[1]\n",
        "    denominator = math.sqrt(a ** 2 + b ** 2) * math.sqrt(P[0] ** 2 + P[1] **2)       \n",
        "    cosine_dist.append(math.acos(numerator / denominator))\n",
        "\n",
        "X = cosine_dist\n",
        "Y = [S for S in sorted(zip(S,X), key = lambda i: i[1])]\n",
        "k = Y[:5] \n",
        "for i, j in k:\n",
        "    print(i)"
      ],
      "execution_count": null,
      "outputs": [
        {
          "output_type": "stream",
          "name": "stdout",
          "text": [
            "(6, -7)\n",
            "(1, -1)\n",
            "(6, 0)\n",
            "(-5, -8)\n",
            "(-1, -1)\n"
          ]
        }
      ]
    },
    {
      "cell_type": "markdown",
      "metadata": {
        "id": "-g11jeAiB-k5"
      },
      "source": [
        "<h3> Q6: Find Which line separates oranges and apples</h3>\n",
        "consider you have given two set of data points in the form of list of tuples like \n",
        "<pre>\n",
        "Red =[(R11,R12),(R21,R22),(R31,R32),(R41,R42),(R51,R52),..,(Rn1,Rn2)]\n",
        "Blue=[(B11,B12),(B21,B22),(B31,B32),(B41,B42),(B51,B52),..,(Bm1,Bm2)]\n",
        "</pre>\n",
        "and set of line equations(in the string formate, i.e list of strings)\n",
        "<pre>\n",
        "Lines = [a1x+b1y+c1,a2x+b2y+c2,a3x+b3y+c3,a4x+b4y+c4,..,K lines]\n",
        "Note: you need to string parsing here and get the coefficients of x,y and intercept\n",
        "</pre>\n",
        "your task is to for each line that is given print \"YES\"/\"NO\", you will print yes, if all the red points are one side of the line and blue points are other side of the line, otherwise no\n",
        "<pre>\n",
        "Ex:\n",
        "Red= [(1,1),(2,1),(4,2),(2,4), (-1,4)]\n",
        "Blue= [(-2,-1),(-1,-2),(-3,-2),(-3,-1),(1,-3)]\n",
        "Lines=[\"1x+1y+0\",\"1x-1y+0\",\"1x+0y-3\",\"0x+1y-0.5\"]\n",
        "<img src='https://i.imgur.com/DoQf7mE.jpg' width=400>\n",
        "Output:\n",
        "YES\n",
        "NO\n",
        "NO\n",
        "YES\n",
        "</pre>"
      ]
    },
    {
      "cell_type": "code",
      "metadata": {
        "id": "eRxExaTRB-k6",
        "colab": {
          "base_uri": "https://localhost:8080/"
        },
        "outputId": "827473d6-8397-4aed-9d36-51ff092a12ff"
      },
      "source": [
        "import math\n",
        "# write your python code here\n",
        "# you can take the above example as sample input for your program to test\n",
        "# it should work for any general input try not to hard code for only given input strings\n",
        "    \n",
        "# you can free to change all these codes/structure\n",
        "def i_am_the_one(red,blue,line):\n",
        "    # your code\n",
        "    sign_of_r_pts_eq = -1\n",
        "\n",
        "    if eval(line.replace('x', '*%s' % red[0][0]).replace('y', '*%s' % red[0][1])) > 0:\n",
        "        sign_of_r_pts_eq = 1\n",
        "\n",
        "    for r_pt in red:\n",
        "        if sign_of_r_pts_eq == 1 and eval(\n",
        "                line.replace('x', '*%s' % r_pt[0]).replace('y', '*%s' % r_pt[1])) < 0:\n",
        "            return 'NO'\n",
        "\n",
        "        if sign_of_r_pts_eq == -1 and eval(\n",
        "                line.replace('x', '*%s' % r_pt[0]).replace('y', '*%s' % r_pt[1])) > 0:\n",
        "            return 'NO'\n",
        "\n",
        "\n",
        "    sign_of_b_pts_eq = -1 * sign_of_r_pts_eq\n",
        "\n",
        "    for b_pts in blue:\n",
        "        if sign_of_b_pts_eq == 1 and eval(\n",
        "                line.replace('x', '*%s' % b_pts[0]).replace('y', '*%s' % b_pts[1])) < 0:\n",
        "            return 'NO'\n",
        "\n",
        "        if sign_of_b_pts_eq == -1 and eval(\n",
        "                line.replace('x', '*%s' % b_pts[0]).replace('y', '*%s' % b_pts[1])) > 0:\n",
        "            return 'NO'\n",
        "\n",
        "    return 'YES'\n",
        "\n",
        "Red = [(1, 1), (2, 1), (4, 2), (2, 4), (-1, 4)]\n",
        "Blue = [(-2, -1), (-1, -2), (-3, -2), (-3, -1), (1, -3)]\n",
        "\n",
        "Lines = [\"1x+1y+0\", \"1x-1y+0\", \"1x+0y-3\", \"0x+1y-0.5\"]\n",
        "\n",
        "for i in Lines:\n",
        "    yes_or_no = i_am_the_one(Red, Blue, i)\n",
        "    print(yes_or_no)"
      ],
      "execution_count": null,
      "outputs": [
        {
          "output_type": "stream",
          "name": "stdout",
          "text": [
            "YES\n",
            "NO\n",
            "NO\n",
            "YES\n"
          ]
        }
      ]
    },
    {
      "cell_type": "markdown",
      "metadata": {
        "id": "9OBpURbNB-k9"
      },
      "source": [
        "<h3> Q7: Filling the missing values in the specified formate</h3>\n",
        "You will be given a string with digits and '\\_'(missing value) symbols you have to replace the '\\_' symbols as explained \n",
        "<pre>\n",
        "Ex 1: _, _, _, 24 ==> 24/4, 24/4, 24/4, 24/4 i.e we. have distributed the 24 equally to all 4 places <br>\n",
        "Ex 2: 40, _, _, _, 60 ==> (60+40)/5,(60+40)/5,(60+40)/5,(60+40)/5,(60+40)/5 ==> 20, 20, 20, 20, 20 i.e. the sum of (60+40) is distributed qually to all 5 places<br>\n",
        "Ex 3: 80, _, _, _, _  ==> 80/5,80/5,80/5,80/5,80/5 ==> 16, 16, 16, 16, 16 i.e. the 80 is distributed qually to all 5 missing values that are right to it<br>\n",
        "Ex 4: _, _, 30, _, _, _, 50, _, _  \n",
        "==> we will fill the missing values from left to right \n",
        "    a. first we will distribute the 30 to left two missing values (10, 10, 10, _, _, _, 50, _, _)\n",
        "    b. now distribute the sum (10+50) missing values in between (10, 10, 12, 12, 12, 12, 12, _, _) \n",
        "    c. now we will distribute 12 to right side missing values (10, 10, 12, 12, 12, 12, 4, 4, 4)\n",
        "</pre>\n",
        "for a given string with comma seprate values, which will have both missing values numbers like ex: \"_, _, x, _, _, _\"\n",
        "you need fill the missing values\n",
        "\n",
        "Q: your program reads a string like ex: \"_, _, x, _, _, _\" and returns the filled sequence\n",
        "\n",
        "Ex: \n",
        "<pre>\n",
        "Input1: \"_,_,_,24\"\n",
        "Output1: 6,6,6,6\n",
        "\n",
        "Input2: \"40,_,_,_,60\"\n",
        "Output2: 20,20,20,20,20\n",
        "\n",
        "Input3: \"80,_,_,_,_\"\n",
        "Output3: 16,16,16,16,16\n",
        "\n",
        "Input4: \"_,_,30,_,_,_,50,_,_\"\n",
        "Output4: 10,10,12,12,12,12,4,4,4\n",
        "</pre>\n",
        "\n"
      ]
    },
    {
      "cell_type": "code",
      "metadata": {
        "id": "nZmpzHs_B-k-",
        "colab": {
          "base_uri": "https://localhost:8080/"
        },
        "outputId": "3196997e-3341-4f6c-e34a-abf8e76effd7"
      },
      "source": [
        "# write your python code here\n",
        "# you can take the above example as sample input for your program to test\n",
        "# it should work for any general input try not to hard code for only given input strings\n",
        "\n",
        "\n",
        "# you can free to change all these codes/structure\n",
        "\n",
        "def curve_smoothing(string):\n",
        "    # your code\n",
        "    index_of_non_empty_cells_list = []\n",
        "\n",
        "    split_string = string.split(',')\n",
        "    \n",
        "    for i in range(len(split_string)):\n",
        "        if split_string[i] != '_':\n",
        "            index_of_non_empty_cells_list.append(i)\n",
        "            \n",
        "    # add the length of the original list to index_of_non_empty_cells_list\n",
        "    index_of_non_empty_cells_list.append(len(split_string) - 1)\n",
        "    \n",
        "    #print(index_of_non_empty_cells_list)\n",
        "    \n",
        "    # Loop over the index_of_non_empty_cells_list to modify the original list by filling up empty slots\n",
        "    \n",
        "    start = 0\n",
        "    \n",
        "    for ele in index_of_non_empty_cells_list:\n",
        "        # Whenever there is a missing value, add the proceeding value and the immediately next available value\n",
        "        # and divide it by the number of missing values.\n",
        "        # Calculate the cumulative_sum of available non-empty cells.\n",
        "        cumulative_sum_prev_and_next_value = int(split_string[ele]) if split_string[ele] != '_' else 0\n",
        "        cumulative_sum_prev_and_next_value += int(split_string[start]) if split_string[start] != '_' and start != ele else 0\n",
        "#       print(cumulative_sum_prev_and_next_value)\n",
        "        # Divide the cumulative_sum of prev and next value by the number of missing values\n",
        "        integer_to_replace = cumulative_sum_prev_and_next_value // (ele - start + 1)\n",
        "        split_string = [integer_to_replace if start <= x <= ele else split_string[x] for x in range(len(split_string))]\n",
        "        start = ele\n",
        "    return split_string#list of values\n",
        "\n",
        "S =  \"_,_,30,_,_,_,50,_,_\"\n",
        "smoothed_values= curve_smoothing(S)\n",
        "print(smoothed_values)"
      ],
      "execution_count": null,
      "outputs": [
        {
          "output_type": "stream",
          "name": "stdout",
          "text": [
            "[10, 10, 12, 12, 12, 12, 4, 4, 4]\n"
          ]
        }
      ]
    },
    {
      "cell_type": "markdown",
      "metadata": {
        "id": "RBz4pzlfB-lB"
      },
      "source": [
        "<h3> Q8: Filling the missing values in the specified formate</h3>\n",
        "You will be given a list of lists, each sublist will be of length 2 i.e. [[x,y],[p,q],[l,m]..[r,s]]\n",
        "consider its like a martrix of n rows and two columns\n",
        "1. the first column F will contain only 5 uniques values (F1, F2, F3, F4, F5)\n",
        "2. the second column S will contain only 3 uniques values (S1, S2, S3)\n",
        "<pre>\n",
        "your task is to find\n",
        "a. Probability of P(F=F1|S==S1), P(F=F1|S==S2), P(F=F1|S==S3)\n",
        "b. Probability of P(F=F2|S==S1), P(F=F2|S==S2), P(F=F2|S==S3)\n",
        "c. Probability of P(F=F3|S==S1), P(F=F3|S==S2), P(F=F3|S==S3)\n",
        "d. Probability of P(F=F4|S==S1), P(F=F4|S==S2), P(F=F4|S==S3)\n",
        "e. Probability of P(F=F5|S==S1), P(F=F5|S==S2), P(F=F5|S==S3)\n",
        "</pre>\n",
        "Ex:\n",
        "\n",
        "<pre>\n",
        "[[F1,S1],[F2,S2],[F3,S3],[F1,S2],[F2,S3],[F3,S2],[F2,S1],[F4,S1],[F4,S3],[F5,S1]]\n",
        "\n",
        "a. P(F=F1|S==S1)=1/4, P(F=F1|S==S2)=1/3, P(F=F1|S==S3)=0/3\n",
        "b. P(F=F2|S==S1)=1/4, P(F=F2|S==S2)=1/3, P(F=F2|S==S3)=1/3\n",
        "c. P(F=F3|S==S1)=0/4, P(F=F3|S==S2)=1/3, P(F=F3|S==S3)=1/3\n",
        "d. P(F=F4|S==S1)=1/4, P(F=F4|S==S2)=0/3, P(F=F4|S==S3)=1/3\n",
        "e. P(F=F5|S==S1)=1/4, P(F=F5|S==S2)=0/3, P(F=F5|S==S3)=0/3\n",
        "</pre>\n",
        "\n",
        "\n"
      ]
    },
    {
      "cell_type": "code",
      "metadata": {
        "id": "e-1giz1MB-lC",
        "colab": {
          "base_uri": "https://localhost:8080/"
        },
        "outputId": "3ba18deb-b2b4-4182-9549-e345e9f76c37"
      },
      "source": [
        "# write your python code here\n",
        "# you can take the above example as sample input for your program to test\n",
        "# it should work for any general input try not to hard code for only given input strings\n",
        "\n",
        "\n",
        "\n",
        "# you can free to change all these codes/structure\n",
        "def compute_conditional_probabilites(F, S):\n",
        "    # your code\n",
        "    numerator = 0\n",
        "    denominator = 0\n",
        "    for i in range(len(A)):\n",
        "        if(A[i][1] == S):\n",
        "            denominator = denominator + 1\n",
        "            if(A[i][0] == F):\n",
        "                numerator = numerator + 1\n",
        "    print('P(F = {} | S == {}) = {}/{}'.format(F, S, str(numerator), str(denominator)))\n",
        "    # print the output as per the instructions\n",
        "\n",
        "A = [['F1','S1'],['F2','S2'],['F3','S3'],['F1','S2'],['F2','S3'],['F3','S2'],['F2','S1'],['F4','S1'],['F4','S3'],['F5','S1']]\n",
        "\n",
        "for i in ['F1', 'F2', 'F3', 'F4', 'F5']:\n",
        "    for j in ['S1', 'S2', 'S3']:\n",
        "        compute_conditional_probabilites(i, j)"
      ],
      "execution_count": null,
      "outputs": [
        {
          "output_type": "stream",
          "name": "stdout",
          "text": [
            "P(F = F1 | S == S1) = 1/4\n",
            "P(F = F1 | S == S2) = 1/3\n",
            "P(F = F1 | S == S3) = 0/3\n",
            "P(F = F2 | S == S1) = 1/4\n",
            "P(F = F2 | S == S2) = 1/3\n",
            "P(F = F2 | S == S3) = 1/3\n",
            "P(F = F3 | S == S1) = 0/4\n",
            "P(F = F3 | S == S2) = 1/3\n",
            "P(F = F3 | S == S3) = 1/3\n",
            "P(F = F4 | S == S1) = 1/4\n",
            "P(F = F4 | S == S2) = 0/3\n",
            "P(F = F4 | S == S3) = 1/3\n",
            "P(F = F5 | S == S1) = 1/4\n",
            "P(F = F5 | S == S2) = 0/3\n",
            "P(F = F5 | S == S3) = 0/3\n"
          ]
        }
      ]
    },
    {
      "cell_type": "markdown",
      "metadata": {
        "id": "n4HS87QmB-lF"
      },
      "source": [
        "<h3> Q9: Given two sentances S1, S2</h3>\n",
        "You will be given two sentances S1, S2 your task is to find \n",
        "<pre>\n",
        "a. Number of common words between S1, S2\n",
        "b. Words in S1 but not in S2\n",
        "c. Words in S2 but not in S1\n",
        "</pre>\n",
        "\n",
        "Ex: \n",
        "<pre>\n",
        "S1= \"the first column F will contain only 5 uniques values\"\n",
        "S2= \"the second column S will contain only 3 uniques values\"\n",
        "Output:\n",
        "a. 7\n",
        "b. ['first','F','5']\n",
        "c. ['second','S','3']\n",
        "</pre>"
      ]
    },
    {
      "cell_type": "code",
      "metadata": {
        "id": "Ez7hlHK0B-lG",
        "colab": {
          "base_uri": "https://localhost:8080/"
        },
        "outputId": "71586728-9f88-4852-e7e2-7318f4c63a18"
      },
      "source": [
        "# write your python code here\n",
        "# you can take the above example as sample input for your program to test\n",
        "# it should work for any general input try not to hard code for only given input strings\n",
        "\n",
        "# you can free to change all these codes/structure\n",
        "def string_features(S1, S2):\n",
        "    # your code\n",
        "    # Split the words of the sentences and put the words in a set\n",
        "    S1_words = set(S1.split())\n",
        "    S2_words = set(S2.split())\n",
        "    # Use set intersection operation to get the common words between 2 sets and compute the length of the resultant set\n",
        "    a = len(S1_words & S2_words)\n",
        "    # Use set difference operation to get the words that present in either of the set and display the words as a list\n",
        "    b = set(S1_words) - (set(S2_words))\n",
        "    b_l = list(b)\n",
        "    c = set(S2_words) - (set(S1_words))\n",
        "    c_l = list(c)\n",
        "    return a, b_l, c_l\n",
        "\n",
        "S1 = \"the first column F will contain only 5 uniques values\"\n",
        "S2 = \"the second column S will contain only 3 uniques values\"\n",
        "a, b_l, c_l = string_features(S1, S2)\n",
        "print(a)\n",
        "print(b_l)\n",
        "print(c_l)"
      ],
      "execution_count": null,
      "outputs": [
        {
          "output_type": "stream",
          "name": "stdout",
          "text": [
            "7\n",
            "['5', 'F', 'first']\n",
            "['second', 'S', '3']\n"
          ]
        }
      ]
    },
    {
      "cell_type": "markdown",
      "metadata": {
        "id": "XefXVEjCB-lI"
      },
      "source": [
        "<h3> Q10: Given two sentances S1, S2</h3>\n",
        "You will be given a list of lists, each sublist will be of length 2 i.e. [[x,y],[p,q],[l,m]..[r,s]]\n",
        "consider its like a martrix of n rows and two columns\n",
        "\n",
        "a. the first column Y will contain interger values <br>\n",
        "b. the second column $Y_{score}$ will be having float values <br>\n",
        "Your task is to find the value of $f(Y,Y_{score}) = -1*\\frac{1}{n}\\Sigma_{for each Y,Y_{score} pair}(Ylog10(Y_{score})+(1-Y)log10(1-Y_{score}))$ here n is the number of rows in the matrix\n",
        "<pre>\n",
        "Ex:\n",
        "[[1, 0.4], [0, 0.5], [0, 0.9], [0, 0.3], [0, 0.6], [1, 0.1], [1, 0.9], [1, 0.8]]\n",
        "output:\n",
        "0.4243099\n",
        "</pre>\n",
        "$\\frac{-1}{8}\\cdot((1\\cdot log_{10}(0.4)+0\\cdot log_{10}(0.6))+(0\\cdot log_{10}(0.5)+1\\cdot log_{10}(0.5)) + ... + (1\\cdot log_{10}(0.8)+0\\cdot log_{10}(0.2)) )$"
      ]
    },
    {
      "cell_type": "code",
      "metadata": {
        "id": "N9zkagyNB-lJ",
        "colab": {
          "base_uri": "https://localhost:8080/"
        },
        "outputId": "accf96b2-c2bd-46ba-9640-b8a4f4412fff"
      },
      "source": [
        "# write your python code here\n",
        "# you can take the above example as sample input for your program to test\n",
        "# it should work for any general input try not to hard code for only given input strings\n",
        "\n",
        "\n",
        "# you can free to change all these codes/structure\n",
        "from math import log\n",
        "def compute_log_loss(A):\n",
        "    # your code\n",
        "    loss = 0\n",
        "    for row in A:\n",
        "        loss += (row[0] * log(row[1], 10)) + ((1 - row[0]) * log(1 - row[1], 10))\n",
        "        log_loss = -1 * loss / len(A)\n",
        "    return log_loss\n",
        "\n",
        "A = [[1, 0.4], [0, 0.5], [0, 0.9], [0, 0.3], [0, 0.6], [1, 0.1], [1, 0.9], [1, 0.8]]\n",
        "loss = compute_log_loss(A)\n",
        "print(loss)"
      ],
      "execution_count": null,
      "outputs": [
        {
          "output_type": "stream",
          "name": "stdout",
          "text": [
            "0.42430993457031635\n"
          ]
        }
      ]
    },
    {
      "cell_type": "markdown",
      "source": [
        ""
      ],
      "metadata": {
        "id": "pBJIv0sdfW8k"
      }
    },
    {
      "cell_type": "code",
      "source": [
        ""
      ],
      "metadata": {
        "id": "C0qjMlBSfXZC"
      },
      "execution_count": null,
      "outputs": []
    }
  ]
}